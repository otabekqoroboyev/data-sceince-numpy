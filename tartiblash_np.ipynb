{
  "nbformat": 4,
  "nbformat_minor": 0,
  "metadata": {
    "colab": {
      "provenance": [],
      "authorship_tag": "ABX9TyN8MhoiqXvSiTAiwlW3JI02",
      "include_colab_link": true
    },
    "kernelspec": {
      "name": "python3",
      "display_name": "Python 3"
    },
    "language_info": {
      "name": "python"
    }
  },
  "cells": [
    {
      "cell_type": "markdown",
      "metadata": {
        "id": "view-in-github",
        "colab_type": "text"
      },
      "source": [
        "<a href=\"https://colab.research.google.com/github/otabekqoroboyev/data-science/blob/main/tartiblash_np.ipynb\" target=\"_parent\"><img src=\"https://colab.research.google.com/assets/colab-badge.svg\" alt=\"Open In Colab\"/></a>"
      ]
    },
    {
      "cell_type": "markdown",
      "source": [
        "# Tartiblash\n",
        "Sorting Numpy kutubxonasi orqali"
      ],
      "metadata": {
        "id": "gR2-UJzlwlxF"
      }
    },
    {
      "cell_type": "code",
      "execution_count": 14,
      "metadata": {
        "id": "AuPRMI8LrO0u"
      },
      "outputs": [],
      "source": [
        "import numpy as np"
      ]
    },
    {
      "cell_type": "code",
      "source": [
        "arr = np.random.randn(4) # 4ta taxminiy qimatdan tashkil topgan \n",
        "arr"
      ],
      "metadata": {
        "colab": {
          "base_uri": "https://localhost:8080/"
        },
        "id": "esqTD_DSwyrL",
        "outputId": "b4bb5294-d326-4df4-d30b-7879fc718366"
      },
      "execution_count": 21,
      "outputs": [
        {
          "output_type": "execute_result",
          "data": {
            "text/plain": [
              "array([-0.55608802,  0.3064454 ,  0.56031967, -0.3201278 ])"
            ]
          },
          "metadata": {},
          "execution_count": 21
        }
      ]
    },
    {
      "cell_type": "markdown",
      "source": [
        "### `sort` funkiyasi"
      ],
      "metadata": {
        "id": "iPYXOYP3xG_G"
      }
    },
    {
      "cell_type": "code",
      "source": [
        "sorted_arr = np.sort(arr) # arr tartiblangan versiyasi \n",
        "sorted_arr"
      ],
      "metadata": {
        "colab": {
          "base_uri": "https://localhost:8080/"
        },
        "id": "UsiadODRw-Hq",
        "outputId": "118afda9-5159-48e1-c2ae-6c3cdbe7ee39"
      },
      "execution_count": 22,
      "outputs": [
        {
          "output_type": "execute_result",
          "data": {
            "text/plain": [
              "array([-0.55608802, -0.3201278 ,  0.3064454 ,  0.56031967])"
            ]
          },
          "metadata": {},
          "execution_count": 22
        }
      ]
    },
    {
      "cell_type": "code",
      "source": [
        "arr.sort() #bu arr tartiblangan versiyasi to'g'ridan to'g'ri jaylashishi\n",
        "arr"
      ],
      "metadata": {
        "colab": {
          "base_uri": "https://localhost:8080/"
        },
        "id": "gdZ6E-rZxXmd",
        "outputId": "238a700e-b8f2-4df0-c77a-0c9dc7b45535"
      },
      "execution_count": 25,
      "outputs": [
        {
          "output_type": "execute_result",
          "data": {
            "text/plain": [
              "array([-0.55608802, -0.3201278 ,  0.3064454 ,  0.56031967])"
            ]
          },
          "metadata": {},
          "execution_count": 25
        }
      ]
    },
    {
      "cell_type": "code",
      "source": [
        "#teskari tartiblash \n",
        "rev_arr = -np.sort(arr) #kattadan kichikka qarab tartiblaydi\n",
        "rev_arr"
      ],
      "metadata": {
        "colab": {
          "base_uri": "https://localhost:8080/"
        },
        "id": "nX_HYBcUyRge",
        "outputId": "1f001739-468c-4f9b-ad39-3cc085a0322a"
      },
      "execution_count": 27,
      "outputs": [
        {
          "output_type": "execute_result",
          "data": {
            "text/plain": [
              "array([ 0.55608802,  0.3201278 , -0.3064454 , -0.56031967])"
            ]
          },
          "metadata": {},
          "execution_count": 27
        }
      ]
    },
    {
      "cell_type": "code",
      "source": [
        "arr2d = np.random.randn(2,4) #2 ga 4 rendom massiv\n",
        "arr2d \n"
      ],
      "metadata": {
        "colab": {
          "base_uri": "https://localhost:8080/"
        },
        "id": "VrZ55K0EyZ79",
        "outputId": "b8f7f664-9a3c-499a-fd58-1ec0554226a3"
      },
      "execution_count": 29,
      "outputs": [
        {
          "output_type": "execute_result",
          "data": {
            "text/plain": [
              "array([[-1.75020907, -0.36946766,  1.71924914, -0.88360705],\n",
              "       [-0.68918879,  0.20474571,  0.02160193,  2.16285361]])"
            ]
          },
          "metadata": {},
          "execution_count": 29
        }
      ]
    },
    {
      "cell_type": "code",
      "source": [
        "# axis = 0  ->> bu qator \n",
        "row_sort = np.sort(arr2d, axis=0)\n",
        "row_sort"
      ],
      "metadata": {
        "colab": {
          "base_uri": "https://localhost:8080/"
        },
        "id": "_c--LbqFzCi4",
        "outputId": "f2b8298d-ed1a-4ece-b113-fefd97bd5093"
      },
      "execution_count": 31,
      "outputs": [
        {
          "output_type": "execute_result",
          "data": {
            "text/plain": [
              "array([[-1.75020907, -0.36946766,  0.02160193, -0.88360705],\n",
              "       [-0.68918879,  0.20474571,  1.71924914,  2.16285361]])"
            ]
          },
          "metadata": {},
          "execution_count": 31
        }
      ]
    },
    {
      "cell_type": "code",
      "source": [
        "# axis = 1 -- >> bu ustun\n",
        "row_srt = np.sort(arr2d, axis=1) # arr bo'yicha har bir ustunni tartiblaydi\n",
        "row_srt"
      ],
      "metadata": {
        "colab": {
          "base_uri": "https://localhost:8080/"
        },
        "id": "pog3jgq3zRys",
        "outputId": "fcf92322-06cd-47bf-f003-cd74e289e944"
      },
      "execution_count": 35,
      "outputs": [
        {
          "output_type": "execute_result",
          "data": {
            "text/plain": [
              "array([[-1.75020907, -0.88360705, -0.36946766,  1.71924914],\n",
              "       [-0.68918879,  0.02160193,  0.20474571,  2.16285361]])"
            ]
          },
          "metadata": {},
          "execution_count": 35
        }
      ]
    },
    {
      "cell_type": "code",
      "source": [],
      "metadata": {
        "id": "rqj_dnHS0HUf"
      },
      "execution_count": null,
      "outputs": []
    }
  ]
}