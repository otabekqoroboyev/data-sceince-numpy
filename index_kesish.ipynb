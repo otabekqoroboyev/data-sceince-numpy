{
  "nbformat": 4,
  "nbformat_minor": 0,
  "metadata": {
    "colab": {
      "provenance": [],
      "authorship_tag": "ABX9TyP877w6d+7FDdr1pt6XH/QR",
      "include_colab_link": true
    },
    "kernelspec": {
      "name": "python3",
      "display_name": "Python 3"
    },
    "language_info": {
      "name": "python"
    }
  },
  "cells": [
    {
      "cell_type": "markdown",
      "metadata": {
        "id": "view-in-github",
        "colab_type": "text"
      },
      "source": [
        "<a href=\"https://colab.research.google.com/github/otabekqoroboyev/data-science/blob/main/index_kesish.ipynb\" target=\"_parent\"><img src=\"https://colab.research.google.com/assets/colab-badge.svg\" alt=\"Open In Colab\"/></a>"
      ]
    },
    {
      "cell_type": "code",
      "execution_count": null,
      "metadata": {
        "id": "PlSWeEBWcQto"
      },
      "outputs": [],
      "source": [
        "import numpy as np"
      ]
    },
    {
      "cell_type": "code",
      "source": [
        "arr = np.arange(10, 100, 10)\n",
        "arr[0] |# 0 indeks raqamni chiqarib beradi \n"
      ],
      "metadata": {
        "colab": {
          "base_uri": "https://localhost:8080/"
        },
        "id": "_ou9jC-RcUxv",
        "outputId": "c233b81e-943c-49b2-ee37-9b42a6dc7206"
      },
      "execution_count": null,
      "outputs": [
        {
          "output_type": "execute_result",
          "data": {
            "text/plain": [
              "50"
            ]
          },
          "metadata": {},
          "execution_count": 5
        }
      ]
    },
    {
      "cell_type": "code",
      "source": [
        "arr[-3] # bu teskari indeks "
      ],
      "metadata": {
        "colab": {
          "base_uri": "https://localhost:8080/"
        },
        "id": "q6dLqqW-cgmi",
        "outputId": "46c596a7-cdbb-4177-d26f-c1c66a924c24"
      },
      "execution_count": null,
      "outputs": [
        {
          "output_type": "execute_result",
          "data": {
            "text/plain": [
              "70"
            ]
          },
          "metadata": {},
          "execution_count": 6
        }
      ]
    },
    {
      "cell_type": "markdown",
      "source": [
        "![kesib-olish.png](data:image/png;base64,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)"
      ],
      "metadata": {
        "id": "xVqGjTuMdtWg"
      }
    },
    {
      "cell_type": "code",
      "source": [
        "arr[3:5] # mavjud indexni kesib oladi 5 raqami kirmaydi"
      ],
      "metadata": {
        "colab": {
          "base_uri": "https://localhost:8080/"
        },
        "id": "DsTTZNmFdEwk",
        "outputId": "ca91a621-7ecb-429d-a331-5e5ec52b94ab"
      },
      "execution_count": null,
      "outputs": [
        {
          "output_type": "execute_result",
          "data": {
            "text/plain": [
              "array([40, 50])"
            ]
          },
          "metadata": {},
          "execution_count": 7
        }
      ]
    },
    {
      "cell_type": "code",
      "source": [
        "sliced_arr = arr[3:5] #shu oraliqdagini kesib oladi\n",
        "sliced_arr[ : ] = 0 #barcha elementlarni 0 ga tenglaydi\n",
        "sliced_arr"
      ],
      "metadata": {
        "colab": {
          "base_uri": "https://localhost:8080/"
        },
        "id": "UNX9YwlLdZmu",
        "outputId": "a6506e9f-aefc-479c-877f-580d0d558068"
      },
      "execution_count": null,
      "outputs": [
        {
          "output_type": "execute_result",
          "data": {
            "text/plain": [
              "array([0, 0])"
            ]
          },
          "metadata": {},
          "execution_count": 9
        }
      ]
    },
    {
      "cell_type": "code",
      "source": [
        "arr"
      ],
      "metadata": {
        "colab": {
          "base_uri": "https://localhost:8080/"
        },
        "id": "3zXjTNHRfARM",
        "outputId": "9809be28-0b6c-4c5a-c1a1-1a7bc7603dc5"
      },
      "execution_count": null,
      "outputs": [
        {
          "output_type": "execute_result",
          "data": {
            "text/plain": [
              "array([10, 20, 30,  0,  0, 60, 70, 80, 90])"
            ]
          },
          "metadata": {},
          "execution_count": 10
        }
      ]
    },
    {
      "cell_type": "code",
      "source": [
        "arr1 = np.arange(10,100,10)\n",
        "arr1"
      ],
      "metadata": {
        "colab": {
          "base_uri": "https://localhost:8080/"
        },
        "id": "SB901Km4fGMy",
        "outputId": "695f9831-e095-4869-8e71-3940f50b1b53"
      },
      "execution_count": null,
      "outputs": [
        {
          "output_type": "execute_result",
          "data": {
            "text/plain": [
              "array([10, 20, 30, 40, 50, 60, 70, 80, 90])"
            ]
          },
          "metadata": {},
          "execution_count": 11
        }
      ]
    },
    {
      "cell_type": "code",
      "source": [
        "copy_usul = arr1[3:5].copy() \n",
        "copy_usul[ : ]=0"
      ],
      "metadata": {
        "id": "KUVuVJcLfgsj"
      },
      "execution_count": 13,
      "outputs": []
    },
    {
      "cell_type": "code",
      "source": [
        "copy_usul"
      ],
      "metadata": {
        "colab": {
          "base_uri": "https://localhost:8080/"
        },
        "id": "16DKvhntiXeZ",
        "outputId": "7a24047f-346a-49db-a8c5-21d9aa8848f8"
      },
      "execution_count": 14,
      "outputs": [
        {
          "output_type": "execute_result",
          "data": {
            "text/plain": [
              "array([0, 0])"
            ]
          },
          "metadata": {},
          "execution_count": 14
        }
      ]
    },
    {
      "cell_type": "code",
      "source": [
        "arr1"
      ],
      "metadata": {
        "colab": {
          "base_uri": "https://localhost:8080/"
        },
        "id": "sUfFfQ2yijuH",
        "outputId": "64837899-a6b1-4830-97d1-1e316de3932a"
      },
      "execution_count": 15,
      "outputs": [
        {
          "output_type": "execute_result",
          "data": {
            "text/plain": [
              "array([10, 20, 30, 40, 50, 60, 70, 80, 90])"
            ]
          },
          "metadata": {},
          "execution_count": 15
        }
      ]
    },
    {
      "cell_type": "code",
      "source": [
        "arr2d = np.array([[2,3,4],[4,5,6],[7,8,9]]) #Uch o'lchamli massiv (3,3)\n",
        "arr2d"
      ],
      "metadata": {
        "colab": {
          "base_uri": "https://localhost:8080/"
        },
        "id": "KQMsymH8ilA_",
        "outputId": "a36ec3e9-5e18-48d5-e03e-a8979f367721"
      },
      "execution_count": 18,
      "outputs": [
        {
          "output_type": "execute_result",
          "data": {
            "text/plain": [
              "array([[2, 3, 4],\n",
              "       [4, 5, 6],\n",
              "       [7, 8, 9]])"
            ]
          },
          "metadata": {},
          "execution_count": 18
        }
      ]
    },
    {
      "cell_type": "code",
      "source": [
        "arr2d[2,1]"
      ],
      "metadata": {
        "colab": {
          "base_uri": "https://localhost:8080/"
        },
        "id": "jLqDKajRjiXt",
        "outputId": "7410f835-b603-45c9-c9b6-21e1e30e7e38"
      },
      "execution_count": 22,
      "outputs": [
        {
          "output_type": "execute_result",
          "data": {
            "text/plain": [
              "8"
            ]
          },
          "metadata": {},
          "execution_count": 22
        }
      ]
    },
    {
      "cell_type": "code",
      "source": [
        "sl_arr2d = arr2d[2, 1:3]\n",
        "sl_arr2d"
      ],
      "metadata": {
        "colab": {
          "base_uri": "https://localhost:8080/"
        },
        "id": "ad_PSiHjkT5d",
        "outputId": "edf15567-3547-4ba9-8a96-c0eefa092bed"
      },
      "execution_count": 26,
      "outputs": [
        {
          "output_type": "execute_result",
          "data": {
            "text/plain": [
              "array([8, 9])"
            ]
          },
          "metadata": {},
          "execution_count": 26
        }
      ]
    },
    {
      "cell_type": "code",
      "source": [
        "# 3D array\n",
        "arr3d = np.array([[[ 0,  1,  2],\n",
        "                   [ 3,  4,  5],\n",
        "                   [ 6,  7,  8]],\n",
        "\n",
        "                  [[ 9, 10, 11],\n",
        "                   [12, 13, 14],\n",
        "                   [15, 16, 17]],\n",
        "\n",
        "                  [[18, 19, 20],\n",
        "                   [21, 22, 23],\n",
        "                   [24, 25, 26]]])\n",
        "arr3d"
      ],
      "metadata": {
        "colab": {
          "base_uri": "https://localhost:8080/"
        },
        "id": "27pMDC4glEPa",
        "outputId": "77e65dcf-3d48-4317-918a-df570dcb4a88"
      },
      "execution_count": 27,
      "outputs": [
        {
          "output_type": "execute_result",
          "data": {
            "text/plain": [
              "array([[[ 0,  1,  2],\n",
              "        [ 3,  4,  5],\n",
              "        [ 6,  7,  8]],\n",
              "\n",
              "       [[ 9, 10, 11],\n",
              "        [12, 13, 14],\n",
              "        [15, 16, 17]],\n",
              "\n",
              "       [[18, 19, 20],\n",
              "        [21, 22, 23],\n",
              "        [24, 25, 26]]])"
            ]
          },
          "metadata": {},
          "execution_count": 27
        }
      ]
    },
    {
      "cell_type": "code",
      "source": [
        "arr3d[0][1, 1]"
      ],
      "metadata": {
        "colab": {
          "base_uri": "https://localhost:8080/"
        },
        "id": "vi1K-iO6sTCu",
        "outputId": "4dbbfa83-ee02-464e-f071-ecb8542ace36"
      },
      "execution_count": 28,
      "outputs": [
        {
          "output_type": "execute_result",
          "data": {
            "text/plain": [
              "4"
            ]
          },
          "metadata": {},
          "execution_count": 28
        }
      ]
    },
    {
      "cell_type": "code",
      "source": [
        "arr3d[2][0, :2]"
      ],
      "metadata": {
        "colab": {
          "base_uri": "https://localhost:8080/"
        },
        "id": "UrvnD89msXVC",
        "outputId": "2da9e378-f6a3-4eca-b574-8f1c281eba1d"
      },
      "execution_count": 29,
      "outputs": [
        {
          "output_type": "execute_result",
          "data": {
            "text/plain": [
              "array([18, 19])"
            ]
          },
          "metadata": {},
          "execution_count": 29
        }
      ]
    },
    {
      "cell_type": "code",
      "source": [],
      "metadata": {
        "id": "ASiGOD3QsaY-"
      },
      "execution_count": null,
      "outputs": []
    }
  ]
}