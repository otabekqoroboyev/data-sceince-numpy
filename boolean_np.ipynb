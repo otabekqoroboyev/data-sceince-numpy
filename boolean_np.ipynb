{
  "cells": [
    {
      "cell_type": "markdown",
      "metadata": {
        "id": "view-in-github",
        "colab_type": "text"
      },
      "source": [
        "<a href=\"https://colab.research.google.com/github/otabekqoroboyev/data-science/blob/main/boolean_np.ipynb\" target=\"_parent\"><img src=\"https://colab.research.google.com/assets/colab-badge.svg\" alt=\"Open In Colab\"/></a>"
      ]
    },
    {
      "cell_type": "markdown",
      "source": [
        "Boolean indekslash\n"
      ],
      "metadata": {
        "id": "vsf2UPyGzFRw"
      }
    },
    {
      "cell_type": "code",
      "execution_count": 1,
      "metadata": {
        "id": "xaLuD8xzupc_"
      },
      "outputs": [],
      "source": [
        "import numpy as np"
      ]
    },
    {
      "cell_type": "code",
      "source": [
        "# Ismlar\n",
        "names = np.array(['Hasan', 'Husan', 'Mirzabek', 'Elyor', 'Hasan', 'Javohir', 'Elyor'])\n",
        "names"
      ],
      "metadata": {
        "colab": {
          "base_uri": "https://localhost:8080/"
        },
        "id": "CGfXpcQByzbi",
        "outputId": "e5472813-19e4-48d8-fe1d-7314597952b4"
      },
      "execution_count": 2,
      "outputs": [
        {
          "output_type": "execute_result",
          "data": {
            "text/plain": [
              "array(['Hasan', 'Husan', 'Mirzabek', 'Elyor', 'Hasan', 'Javohir', 'Elyor'],\n",
              "      dtype='<U8')"
            ]
          },
          "metadata": {},
          "execution_count": 2
        }
      ]
    },
    {
      "cell_type": "code",
      "source": [
        "data = np.random.randn(7,4)\n",
        "data"
      ],
      "metadata": {
        "colab": {
          "base_uri": "https://localhost:8080/"
        },
        "id": "P5T7g-nTzTmM",
        "outputId": "7a9dad2d-bef1-49d4-912b-a7d6808fd77c"
      },
      "execution_count": 6,
      "outputs": [
        {
          "output_type": "execute_result",
          "data": {
            "text/plain": [
              "array([[-2.66086613,  1.9559145 , -0.7013255 ,  0.6973912 ],\n",
              "       [ 0.67259164,  0.327764  ,  0.49293457, -0.44049866],\n",
              "       [-0.38946905,  0.44462094, -0.41374612,  0.7457713 ],\n",
              "       [-1.38327486,  1.47773462,  0.81404265, -0.31196693],\n",
              "       [ 1.79440309, -1.40756306, -0.23927566,  0.03573515],\n",
              "       [-1.02331195,  1.15247084,  0.96262849, -0.71641499],\n",
              "       [-2.29408599,  0.30231577,  2.37317678, -0.0214057 ]])"
            ]
          },
          "metadata": {},
          "execution_count": 6
        }
      ]
    },
    {
      "cell_type": "code",
      "source": [
        "names == 'Hasan'"
      ],
      "metadata": {
        "colab": {
          "base_uri": "https://localhost:8080/"
        },
        "id": "7PiHnWDRzlUN",
        "outputId": "900ce3a6-dd31-4310-f323-574db133ba8c"
      },
      "execution_count": 8,
      "outputs": [
        {
          "output_type": "execute_result",
          "data": {
            "text/plain": [
              "array([ True, False, False, False,  True, False, False])"
            ]
          },
          "metadata": {},
          "execution_count": 8
        }
      ]
    },
    {
      "cell_type": "code",
      "source": [
        "data[names =='Hasan'] # hasanga tegishli barcha malumotlarni chaqirib oldi"
      ],
      "metadata": {
        "colab": {
          "base_uri": "https://localhost:8080/"
        },
        "id": "5jOh1oKm0EjZ",
        "outputId": "ea3569ba-3872-4ee3-b0da-926a749e4326"
      },
      "execution_count": 9,
      "outputs": [
        {
          "output_type": "execute_result",
          "data": {
            "text/plain": [
              "array([[-2.66086613,  1.9559145 , -0.7013255 ,  0.6973912 ],\n",
              "       [ 1.79440309, -1.40756306, -0.23927566,  0.03573515]])"
            ]
          },
          "metadata": {},
          "execution_count": 9
        }
      ]
    },
    {
      "cell_type": "code",
      "source": [
        "data[names == \"Husan\"]"
      ],
      "metadata": {
        "colab": {
          "base_uri": "https://localhost:8080/"
        },
        "id": "3q63rGDd0m9s",
        "outputId": "adc85612-18e7-44d9-b175-6d2bd1850e00"
      },
      "execution_count": 11,
      "outputs": [
        {
          "output_type": "execute_result",
          "data": {
            "text/plain": [
              "array([[ 0.67259164,  0.327764  ,  0.49293457, -0.44049866]])"
            ]
          },
          "metadata": {},
          "execution_count": 11
        }
      ]
    },
    {
      "cell_type": "code",
      "source": [
        "data[names == 'Hasan', 2:]"
      ],
      "metadata": {
        "colab": {
          "base_uri": "https://localhost:8080/"
        },
        "id": "Inj8Kaq906ju",
        "outputId": "5e8f604d-dc83-4130-be10-d0097adc229f"
      },
      "execution_count": 13,
      "outputs": [
        {
          "output_type": "execute_result",
          "data": {
            "text/plain": [
              "array([[-0.7013255 ,  0.6973912 ],\n",
              "       [-0.23927566,  0.03573515]])"
            ]
          },
          "metadata": {},
          "execution_count": 13
        }
      ]
    },
    {
      "cell_type": "code",
      "source": [
        "data[names !='Hasan'] # (!=) hasandan tashqari barcha insonlarni ajratib olish"
      ],
      "metadata": {
        "colab": {
          "base_uri": "https://localhost:8080/"
        },
        "id": "N3HY6-cD1oND",
        "outputId": "a7c1a93b-147b-4742-8f8d-c3bcda05f61d"
      },
      "execution_count": 15,
      "outputs": [
        {
          "output_type": "execute_result",
          "data": {
            "text/plain": [
              "array([[ 0.67259164,  0.327764  ,  0.49293457, -0.44049866],\n",
              "       [-0.38946905,  0.44462094, -0.41374612,  0.7457713 ],\n",
              "       [-1.38327486,  1.47773462,  0.81404265, -0.31196693],\n",
              "       [-1.02331195,  1.15247084,  0.96262849, -0.71641499],\n",
              "       [-2.29408599,  0.30231577,  2.37317678, -0.0214057 ]])"
            ]
          },
          "metadata": {},
          "execution_count": 15
        }
      ]
    },
    {
      "cell_type": "code",
      "source": [
        "data[~(names == 'Husan')]"
      ],
      "metadata": {
        "colab": {
          "base_uri": "https://localhost:8080/"
        },
        "id": "YD4o7mZP2MRi",
        "outputId": "0b66bda3-8507-41d7-e1b8-44305551187f"
      },
      "execution_count": 17,
      "outputs": [
        {
          "output_type": "execute_result",
          "data": {
            "text/plain": [
              "array([[-2.66086613,  1.9559145 , -0.7013255 ,  0.6973912 ],\n",
              "       [-0.38946905,  0.44462094, -0.41374612,  0.7457713 ],\n",
              "       [-1.38327486,  1.47773462,  0.81404265, -0.31196693],\n",
              "       [ 1.79440309, -1.40756306, -0.23927566,  0.03573515],\n",
              "       [-1.02331195,  1.15247084,  0.96262849, -0.71641499],\n",
              "       [-2.29408599,  0.30231577,  2.37317678, -0.0214057 ]])"
            ]
          },
          "metadata": {},
          "execution_count": 17
        }
      ]
    },
    {
      "cell_type": "code",
      "source": [
        "data[names == \"Hasan\"],[names == \"Husan\"]"
      ],
      "metadata": {
        "colab": {
          "base_uri": "https://localhost:8080/"
        },
        "id": "dQ-GceNA2scp",
        "outputId": "8f2dcbe5-366a-4ecd-c9b9-f4eff4fad065"
      },
      "execution_count": 23,
      "outputs": [
        {
          "output_type": "execute_result",
          "data": {
            "text/plain": [
              "(array([[-2.66086613,  1.9559145 , -0.7013255 ,  0.6973912 ],\n",
              "        [ 1.79440309, -1.40756306, -0.23927566,  0.03573515]]),\n",
              " [array([False,  True, False, False, False, False, False])])"
            ]
          },
          "metadata": {},
          "execution_count": 23
        }
      ]
    },
    {
      "cell_type": "code",
      "source": [
        "print(names)\n",
        "print(data)"
      ],
      "metadata": {
        "colab": {
          "base_uri": "https://localhost:8080/"
        },
        "id": "0WFsw8P53C2a",
        "outputId": "c21b5bcd-7801-43b1-8c35-a5e9a91b5bce"
      },
      "execution_count": 24,
      "outputs": [
        {
          "output_type": "stream",
          "name": "stdout",
          "text": [
            "['Hasan' 'Husan' 'Mirzabek' 'Elyor' 'Hasan' 'Javohir' 'Elyor']\n",
            "[[-2.66086613  1.9559145  -0.7013255   0.6973912 ]\n",
            " [ 0.67259164  0.327764    0.49293457 -0.44049866]\n",
            " [-0.38946905  0.44462094 -0.41374612  0.7457713 ]\n",
            " [-1.38327486  1.47773462  0.81404265 -0.31196693]\n",
            " [ 1.79440309 -1.40756306 -0.23927566  0.03573515]\n",
            " [-1.02331195  1.15247084  0.96262849 -0.71641499]\n",
            " [-2.29408599  0.30231577  2.37317678 -0.0214057 ]]\n"
          ]
        }
      ]
    },
    {
      "cell_type": "code",
      "source": [
        "mask =(names =='Hasan') | (names ==\"Husan\") # | bu chiziq or yoki anosini anglatadi\n",
        "mask"
      ],
      "metadata": {
        "colab": {
          "base_uri": "https://localhost:8080/"
        },
        "id": "P8TBuzjI4Fu-",
        "outputId": "10614d6e-1094-4fec-9bda-3f9aa7ae10fc"
      },
      "execution_count": 26,
      "outputs": [
        {
          "output_type": "execute_result",
          "data": {
            "text/plain": [
              "array([ True,  True, False, False,  True, False, False])"
            ]
          },
          "metadata": {},
          "execution_count": 26
        }
      ]
    },
    {
      "cell_type": "code",
      "source": [
        "data[mask]"
      ],
      "metadata": {
        "colab": {
          "base_uri": "https://localhost:8080/"
        },
        "id": "_3Li7SZm4WWF",
        "outputId": "55855ab4-fd4b-49ac-ba40-cba6f62429d2"
      },
      "execution_count": 28,
      "outputs": [
        {
          "output_type": "execute_result",
          "data": {
            "text/plain": [
              "array([[-2.66086613,  1.9559145 , -0.7013255 ,  0.6973912 ],\n",
              "       [ 0.67259164,  0.327764  ,  0.49293457, -0.44049866],\n",
              "       [ 1.79440309, -1.40756306, -0.23927566,  0.03573515]])"
            ]
          },
          "metadata": {},
          "execution_count": 28
        }
      ]
    },
    {
      "cell_type": "code",
      "source": [
        "data[data<0] = 0\n",
        "data"
      ],
      "metadata": {
        "colab": {
          "base_uri": "https://localhost:8080/"
        },
        "id": "XW-tTN4O5Ehf",
        "outputId": "c484505b-a9ee-42e8-a607-16558600b0fe"
      },
      "execution_count": 31,
      "outputs": [
        {
          "output_type": "execute_result",
          "data": {
            "text/plain": [
              "array([[0.        , 1.9559145 , 0.        , 0.6973912 ],\n",
              "       [0.67259164, 0.327764  , 0.49293457, 0.        ],\n",
              "       [0.        , 0.44462094, 0.        , 0.7457713 ],\n",
              "       [0.        , 1.47773462, 0.81404265, 0.        ],\n",
              "       [1.79440309, 0.        , 0.        , 0.03573515],\n",
              "       [0.        , 1.15247084, 0.96262849, 0.        ],\n",
              "       [0.        , 0.30231577, 2.37317678, 0.        ]])"
            ]
          },
          "metadata": {},
          "execution_count": 31
        }
      ]
    },
    {
      "cell_type": "code",
      "source": [],
      "metadata": {
        "id": "escWds9L5X0P"
      },
      "execution_count": null,
      "outputs": []
    }
  ],
  "metadata": {
    "colab": {
      "provenance": [],
      "authorship_tag": "ABX9TyOAnRe4Xd/JZwaEn5+7teAh",
      "include_colab_link": true
    },
    "kernelspec": {
      "display_name": "Python 3",
      "name": "python3"
    },
    "language_info": {
      "name": "python"
    }
  },
  "nbformat": 4,
  "nbformat_minor": 0
}