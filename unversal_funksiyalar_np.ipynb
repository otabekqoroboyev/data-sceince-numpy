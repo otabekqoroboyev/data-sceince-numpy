{
  "nbformat": 4,
  "nbformat_minor": 0,
  "metadata": {
    "colab": {
      "provenance": [],
      "authorship_tag": "ABX9TyNlOS91SB4MT+dFtSI452U3",
      "include_colab_link": true
    },
    "kernelspec": {
      "name": "python3",
      "display_name": "Python 3"
    },
    "language_info": {
      "name": "python"
    }
  },
  "cells": [
    {
      "cell_type": "markdown",
      "metadata": {
        "id": "view-in-github",
        "colab_type": "text"
      },
      "source": [
        "<a href=\"https://colab.research.google.com/github/otabekqoroboyev/data-science/blob/main/unversal_funksiyalar_np.ipynb\" target=\"_parent\"><img src=\"https://colab.research.google.com/assets/colab-badge.svg\" alt=\"Open In Colab\"/></a>"
      ]
    },
    {
      "cell_type": "code",
      "execution_count": 3,
      "metadata": {
        "id": "Lvcc_TVj2o1-"
      },
      "outputs": [],
      "source": [
        "import numpy as np"
      ]
    },
    {
      "cell_type": "markdown",
      "source": [
        "### `sqrt`, `square`, `exp`, `log`, `modf`, `sign`, `isnan` funksiyalarini ko'rib chiqamiz"
      ],
      "metadata": {
        "id": "jCbK_HnL2ykb"
      }
    },
    {
      "cell_type": "code",
      "source": [
        "arr = np.arange(10)\n",
        "arr"
      ],
      "metadata": {
        "colab": {
          "base_uri": "https://localhost:8080/"
        },
        "id": "_Wj68uzO2rwO",
        "outputId": "267fcd24-2143-4ec0-ffb4-22c387cb59d6"
      },
      "execution_count": 5,
      "outputs": [
        {
          "output_type": "execute_result",
          "data": {
            "text/plain": [
              "array([0, 1, 2, 3, 4, 5, 6, 7, 8, 9])"
            ]
          },
          "metadata": {},
          "execution_count": 5
        }
      ]
    },
    {
      "cell_type": "code",
      "source": [
        "np.sqrt(arr) # batcha elementlarni yani 1dan 9 gacha ilidizni topadi"
      ],
      "metadata": {
        "colab": {
          "base_uri": "https://localhost:8080/"
        },
        "id": "e8kjU9Mv24dP",
        "outputId": "be6ce656-98ec-4b01-f4b1-db7ea4fa698c"
      },
      "execution_count": 6,
      "outputs": [
        {
          "output_type": "execute_result",
          "data": {
            "text/plain": [
              "array([0.        , 1.        , 1.41421356, 1.73205081, 2.        ,\n",
              "       2.23606798, 2.44948974, 2.64575131, 2.82842712, 3.        ])"
            ]
          },
          "metadata": {},
          "execution_count": 6
        }
      ]
    },
    {
      "cell_type": "code",
      "source": [
        "np.square(arr) # barcha elementlarni kvadratga oshiradi"
      ],
      "metadata": {
        "colab": {
          "base_uri": "https://localhost:8080/"
        },
        "id": "YC2LpDko5DLT",
        "outputId": "5ed5cb73-d530-4222-8ea6-29959c6ae8b3"
      },
      "execution_count": 7,
      "outputs": [
        {
          "output_type": "execute_result",
          "data": {
            "text/plain": [
              "array([ 0,  1,  4,  9, 16, 25, 36, 49, 64, 81])"
            ]
          },
          "metadata": {},
          "execution_count": 7
        }
      ]
    },
    {
      "cell_type": "code",
      "source": [
        "np.exp(arr) #arr barcha elemwntlarinni eksponetini qaytaradi "
      ],
      "metadata": {
        "colab": {
          "base_uri": "https://localhost:8080/"
        },
        "id": "pqlzTwIc3O7r",
        "outputId": "0b1b5d1b-8c09-4d32-8c48-9b0ea52fd6fd"
      },
      "execution_count": 8,
      "outputs": [
        {
          "output_type": "execute_result",
          "data": {
            "text/plain": [
              "array([1.00000000e+00, 2.71828183e+00, 7.38905610e+00, 2.00855369e+01,\n",
              "       5.45981500e+01, 1.48413159e+02, 4.03428793e+02, 1.09663316e+03,\n",
              "       2.98095799e+03, 8.10308393e+03])"
            ]
          },
          "metadata": {},
          "execution_count": 8
        }
      ]
    },
    {
      "cell_type": "code",
      "source": [
        "np.log(arr[1:]) # arr nomili massivli barcha elelmentlarni logarifimni hisoblaydi log e"
      ],
      "metadata": {
        "colab": {
          "base_uri": "https://localhost:8080/"
        },
        "id": "e6kTpvI-6hvF",
        "outputId": "9e1d6caa-c581-4ac2-e85e-72f3b648a973"
      },
      "execution_count": 9,
      "outputs": [
        {
          "output_type": "execute_result",
          "data": {
            "text/plain": [
              "array([0.        , 0.69314718, 1.09861229, 1.38629436, 1.60943791,\n",
              "       1.79175947, 1.94591015, 2.07944154, 2.19722458])"
            ]
          },
          "metadata": {},
          "execution_count": 9
        }
      ]
    },
    {
      "cell_type": "code",
      "source": [
        "arr1 = np.random.randn(6) #oltita iboratdan taxminiy massiv\n",
        "arr1"
      ],
      "metadata": {
        "id": "5vcFh12l67Pt",
        "colab": {
          "base_uri": "https://localhost:8080/"
        },
        "outputId": "1ee28626-f14a-47f4-9b54-14951cd9c843"
      },
      "execution_count": 10,
      "outputs": [
        {
          "output_type": "execute_result",
          "data": {
            "text/plain": [
              "array([-0.4681178 ,  0.97632467, -0.14742106,  0.09840768, -1.54583936,\n",
              "       -1.46554254])"
            ]
          },
          "metadata": {},
          "execution_count": 10
        }
      ]
    },
    {
      "cell_type": "code",
      "source": [
        "qoldiq, butun = np.modf(arr1) #bu qoldiq va butun qismi 2 ta massivga ajratadi"
      ],
      "metadata": {
        "id": "aDUvEbMDASvB"
      },
      "execution_count": 11,
      "outputs": []
    },
    {
      "cell_type": "code",
      "source": [
        "print(qoldiq)\n",
        "print(butun)"
      ],
      "metadata": {
        "colab": {
          "base_uri": "https://localhost:8080/"
        },
        "id": "dmGA_jbvBIo8",
        "outputId": "d6d0e724-6b15-41d4-9a87-d7811b095242"
      },
      "execution_count": 14,
      "outputs": [
        {
          "output_type": "stream",
          "name": "stdout",
          "text": [
            "[-0.4681178   0.97632467 -0.14742106  0.09840768 -0.54583936 -0.46554254]\n",
            "[-0.  0. -0.  0. -1. -1.]\n"
          ]
        }
      ]
    },
    {
      "cell_type": "markdown",
      "source": [
        "### `sign` funkisyasi massiv elementlarini qiymati manfiy bo'lsa `-1` va aksincha musbat bo'lsa `1` ni qaytaradi"
      ],
      "metadata": {
        "id": "XVwugqx1BgRx"
      }
    },
    {
      "cell_type": "code",
      "source": [
        "np.sign(arr1) # bu massiv elementlarni -1 va 1 qilib qaytaradi"
      ],
      "metadata": {
        "colab": {
          "base_uri": "https://localhost:8080/"
        },
        "id": "tkngZRo0BLYq",
        "outputId": "f8ce78f0-8fbc-48b3-f4c5-1791ee322dcf"
      },
      "execution_count": 15,
      "outputs": [
        {
          "output_type": "execute_result",
          "data": {
            "text/plain": [
              "array([-1.,  1., -1.,  1., -1., -1.])"
            ]
          },
          "metadata": {},
          "execution_count": 15
        }
      ]
    },
    {
      "cell_type": "markdown",
      "source": [
        "### `isnan` massivning elementlarida NaN ma'lumoti bo'lsa `True` qaytaradi va aksincha esa `False` qaytaradi"
      ],
      "metadata": {
        "id": "V0U3X9kVB6Rh"
      }
    },
    {
      "cell_type": "code",
      "source": [
        "np.isnan(arr1)"
      ],
      "metadata": {
        "colab": {
          "base_uri": "https://localhost:8080/"
        },
        "id": "iDx5vE9fB-TJ",
        "outputId": "98516786-5803-4323-8bda-3128099a282c"
      },
      "execution_count": 16,
      "outputs": [
        {
          "output_type": "execute_result",
          "data": {
            "text/plain": [
              "array([False, False, False, False, False, False])"
            ]
          },
          "metadata": {},
          "execution_count": 16
        }
      ]
    },
    {
      "cell_type": "code",
      "source": [
        "arr1[0] = np.nan # 0 elementmizni nan almashtirib qoydik"
      ],
      "metadata": {
        "id": "b4Hk4Q-yCCPh"
      },
      "execution_count": 17,
      "outputs": []
    },
    {
      "cell_type": "code",
      "source": [
        "np.isnan(arr1)"
      ],
      "metadata": {
        "colab": {
          "base_uri": "https://localhost:8080/"
        },
        "id": "Q7xDNsC4Cfnc",
        "outputId": "4d7a0485-9ae2-4e81-9419-3b0667e9bca2"
      },
      "execution_count": 18,
      "outputs": [
        {
          "output_type": "execute_result",
          "data": {
            "text/plain": [
              "array([ True, False, False, False, False, False])"
            ]
          },
          "metadata": {},
          "execution_count": 18
        }
      ]
    },
    {
      "cell_type": "markdown",
      "source": [
        "Binary funksiyalari"
      ],
      "metadata": {
        "id": "OPWw3wSNC7SL"
      }
    },
    {
      "cell_type": "code",
      "source": [
        "# ikkita massiv yaratib olamiz\n",
        "arr2 = np.random.randn(6)\n",
        "arr3 = np.random.randn(6)\n",
        "print(arr2)\n",
        "print(arr3)"
      ],
      "metadata": {
        "colab": {
          "base_uri": "https://localhost:8080/"
        },
        "id": "GT3r8cwdCjg2",
        "outputId": "6695bb17-8a31-402e-b41e-65e62556248e"
      },
      "execution_count": 19,
      "outputs": [
        {
          "output_type": "stream",
          "name": "stdout",
          "text": [
            "[-1.03647795  1.01091926 -1.54088147 -1.66726626 -0.24430658 -0.9100146 ]\n",
            "[-1.14333716 -1.03248472 -1.09139209  0.54191091 -0.29040121  0.83039807]\n"
          ]
        }
      ]
    },
    {
      "cell_type": "code",
      "source": [
        "np.add(arr2,arr3) # bu element arr2 va arr3 elementlarni mos ravishda qo'shib berarkan"
      ],
      "metadata": {
        "colab": {
          "base_uri": "https://localhost:8080/"
        },
        "id": "nvDLraFeDXA0",
        "outputId": "ef1b9546-1a8d-4524-c618-62b02ff1c61b"
      },
      "execution_count": 20,
      "outputs": [
        {
          "output_type": "execute_result",
          "data": {
            "text/plain": [
              "array([-2.17981511, -0.02156546, -2.63227357, -1.12535535, -0.53470779,\n",
              "       -0.07961652])"
            ]
          },
          "metadata": {},
          "execution_count": 20
        }
      ]
    },
    {
      "cell_type": "markdown",
      "source": [
        "multiply - funksiyasi kopaytirib beradi"
      ],
      "metadata": {
        "id": "dzYhl4zeD6YD"
      }
    },
    {
      "cell_type": "code",
      "source": [
        "np.multiply(arr2,arr3)"
      ],
      "metadata": {
        "colab": {
          "base_uri": "https://localhost:8080/"
        },
        "id": "TSq0MmNxDpNk",
        "outputId": "4754dba8-7bbe-42ed-9fb4-5c6ca38ffaa1"
      },
      "execution_count": 21,
      "outputs": [
        {
          "output_type": "execute_result",
          "data": {
            "text/plain": [
              "array([ 1.18504376, -1.0437587 ,  1.68170586, -0.90350978,  0.07094693,\n",
              "       -0.75567437])"
            ]
          },
          "metadata": {},
          "execution_count": 21
        }
      ]
    },
    {
      "cell_type": "markdown",
      "source": [
        "maximum - funksiyasi"
      ],
      "metadata": {
        "id": "MOm9lcpEEgpZ"
      }
    },
    {
      "cell_type": "code",
      "source": [
        "np.maximum(arr2,arr3) # arr2 va arr3 elementlarni o'zaro taqqoslab ozaro kattasini chiqaradi"
      ],
      "metadata": {
        "colab": {
          "base_uri": "https://localhost:8080/"
        },
        "id": "y_MK7-F_D_w3",
        "outputId": "bc3f1d66-fef6-4e42-d703-a2e2e3adc8e5"
      },
      "execution_count": 22,
      "outputs": [
        {
          "output_type": "execute_result",
          "data": {
            "text/plain": [
              "array([-1.03647795,  1.01091926, -1.09139209,  0.54191091, -0.24430658,\n",
              "        0.83039807])"
            ]
          },
          "metadata": {},
          "execution_count": 22
        }
      ]
    },
    {
      "cell_type": "code",
      "source": [],
      "metadata": {
        "id": "GoUTdVHWEp6h"
      },
      "execution_count": null,
      "outputs": []
    }
  ]
}