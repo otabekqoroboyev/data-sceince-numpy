{
  "nbformat": 4,
  "nbformat_minor": 0,
  "metadata": {
    "colab": {
      "provenance": [],
      "authorship_tag": "ABX9TyOyZd3Cp6fNVjOxjkk7xeeZ",
      "include_colab_link": true
    },
    "kernelspec": {
      "name": "python3",
      "display_name": "Python 3"
    },
    "language_info": {
      "name": "python"
    }
  },
  "cells": [
    {
      "cell_type": "markdown",
      "metadata": {
        "id": "view-in-github",
        "colab_type": "text"
      },
      "source": [
        "<a href=\"https://colab.research.google.com/github/otabekqoroboyev/data-science/blob/main/Chiziqli_grafik.ipynb\" target=\"_parent\"><img src=\"https://colab.research.google.com/assets/colab-badge.svg\" alt=\"Open In Colab\"/></a>"
      ]
    },
    {
      "cell_type": "markdown",
      "source": [
        "Diagramma bilan ishlashga doir Numpy kutubxonasi Matplotlib"
      ],
      "metadata": {
        "id": "3AH68QknYJeF"
      }
    },
    {
      "cell_type": "code",
      "execution_count": 1,
      "metadata": {
        "id": "mi-lpXWlXbNm"
      },
      "outputs": [],
      "source": [
        "import numpy as  np\n",
        "from matplotlib import pyplot as plt "
      ]
    },
    {
      "cell_type": "code",
      "source": [
        "x = [5,8,10] \n",
        "y = [12,16,6]"
      ],
      "metadata": {
        "id": "mGX1wv4BXu0V"
      },
      "execution_count": 2,
      "outputs": []
    },
    {
      "cell_type": "code",
      "source": [
        "x2 = [6,9,11] \n",
        "y2 = [6,15,7]"
      ],
      "metadata": {
        "id": "tFnQkmLDYWzl"
      },
      "execution_count": 3,
      "outputs": []
    },
    {
      "cell_type": "code",
      "source": [
        "plt.bar(x, y, align = 'center') \n",
        "plt.bar(x2, y2, color = 'g', align = 'center') \n",
        "plt.title('Chizili grafik') \n",
        "plt.ylabel('Y  o\\'qi') \n",
        "plt.xlabel('X  o\\'qi')  "
      ],
      "metadata": {
        "colab": {
          "base_uri": "https://localhost:8080/",
          "height": 312
        },
        "id": "LB6zH-GjYYzY",
        "outputId": "edf82cac-213d-4968-ad3a-e96db4db1a8d"
      },
      "execution_count": 7,
      "outputs": [
        {
          "output_type": "execute_result",
          "data": {
            "text/plain": [
              "Text(0.5, 0, \"X  o'qi\")"
            ]
          },
          "metadata": {},
          "execution_count": 7
        },
        {
          "output_type": "display_data",
          "data": {
            "text/plain": [
              "<Figure size 432x288 with 1 Axes>"
            ],
            "image/png": "[encoded data removed]"
          },
          "metadata": {
            "needs_background": "light"
          }
        }
      ]
    },
    {
      "cell_type": "code",
      "source": [],
      "metadata": {
        "id": "y3N5-H0YZAJ4"
      },
      "execution_count": null,
      "outputs": []
    }
  ]
}