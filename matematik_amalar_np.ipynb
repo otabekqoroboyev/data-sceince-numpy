{
  "nbformat": 4,
  "nbformat_minor": 0,
  "metadata": {
    "colab": {
      "provenance": [],
      "authorship_tag": "ABX9TyMqqDKWlWLjjzdtjz4EijBn",
      "include_colab_link": true
    },
    "kernelspec": {
      "name": "python3",
      "display_name": "Python 3"
    },
    "language_info": {
      "name": "python"
    }
  },
  "cells": [
    {
      "cell_type": "markdown",
      "metadata": {
        "id": "view-in-github",
        "colab_type": "text"
      },
      "source": [
        "<a href=\"https://colab.research.google.com/github/otabekqoroboyev/data-science/blob/main/matematik_amalar_np.ipynb\" target=\"_parent\"><img src=\"https://colab.research.google.com/assets/colab-badge.svg\" alt=\"Open In Colab\"/></a>"
      ]
    },
    {
      "cell_type": "code",
      "execution_count": 1,
      "metadata": {
        "id": "cVqV2HoxPK_C"
      },
      "outputs": [],
      "source": [
        "import numpy as np"
      ]
    },
    {
      "cell_type": "markdown",
      "source": [
        "\n",
        "# Numpy kutubxonasi bilan ishlash:\n",
        "matematik amallar"
      ],
      "metadata": {
        "id": "fkKvhwa9PR4S"
      }
    },
    {
      "cell_type": "code",
      "source": [
        "arr = np.random.randn(5,4)\n",
        "arr"
      ],
      "metadata": {
        "colab": {
          "base_uri": "https://localhost:8080/"
        },
        "id": "kWZ93nrnPOAz",
        "outputId": "3f9babb8-48e0-4331-f0d5-a0ccb15381c9"
      },
      "execution_count": 2,
      "outputs": [
        {
          "output_type": "execute_result",
          "data": {
            "text/plain": [
              "array([[-1.2430834 , -1.10720972,  1.16306916,  0.58655841],\n",
              "       [-0.4523355 , -0.31403163,  0.06432558,  2.3432724 ],\n",
              "       [-1.12960293, -0.53013626, -0.31442037, -0.20360127],\n",
              "       [ 0.13339751, -0.2692021 , -1.82335645, -0.14036558],\n",
              "       [ 0.68891469, -0.1733988 , -0.29239759,  0.31029217]])"
            ]
          },
          "metadata": {},
          "execution_count": 2
        }
      ]
    },
    {
      "cell_type": "code",
      "source": [
        "arr.sum()# arr ni barcha elementlarni yeg'indisini chiqaradi"
      ],
      "metadata": {
        "colab": {
          "base_uri": "https://localhost:8080/"
        },
        "id": "uafwN8mjQvNN",
        "outputId": "66733a88-a23f-40c4-b8ee-4bcb13db75a6"
      },
      "execution_count": 3,
      "outputs": [
        {
          "output_type": "execute_result",
          "data": {
            "text/plain": [
              "-2.7033117050113096"
            ]
          },
          "metadata": {},
          "execution_count": 3
        }
      ]
    },
    {
      "cell_type": "code",
      "source": [
        "np.sum(arr)"
      ],
      "metadata": {
        "colab": {
          "base_uri": "https://localhost:8080/"
        },
        "id": "1Z3eWuTcQ8ba",
        "outputId": "d29283ed-ccf7-43de-a6dc-212a32d5e4e2"
      },
      "execution_count": 4,
      "outputs": [
        {
          "output_type": "execute_result",
          "data": {
            "text/plain": [
              "-2.7033117050113096"
            ]
          },
          "metadata": {},
          "execution_count": 4
        }
      ]
    },
    {
      "cell_type": "code",
      "source": [
        "arr.sum(axis=1) # eniga hisoblab berdi 4ta element yegindisi"
      ],
      "metadata": {
        "colab": {
          "base_uri": "https://localhost:8080/"
        },
        "id": "2yv6DSSVQ_Qo",
        "outputId": "f02e5658-8896-419e-cead-b773eb3ce15c"
      },
      "execution_count": 6,
      "outputs": [
        {
          "output_type": "execute_result",
          "data": {
            "text/plain": [
              "array([-0.60066556,  1.64123085, -2.17776084, -2.09952662,  0.53341046])"
            ]
          },
          "metadata": {},
          "execution_count": 6
        }
      ]
    },
    {
      "cell_type": "code",
      "source": [
        "arr.sum(axis=0) # ustun bo'yicha yeg'indi "
      ],
      "metadata": {
        "colab": {
          "base_uri": "https://localhost:8080/"
        },
        "id": "RCH0j0v4RmLh",
        "outputId": "ad2d8ed9-4b81-4b53-cde1-9d3262fc0f07"
      },
      "execution_count": 7,
      "outputs": [
        {
          "output_type": "execute_result",
          "data": {
            "text/plain": [
              "array([-2.00270964, -2.39397852, -1.20277966,  2.89615612])"
            ]
          },
          "metadata": {},
          "execution_count": 7
        }
      ]
    },
    {
      "cell_type": "markdown",
      "source": [
        "**mean** - o'rta arifmetik qiymat funksiyasi"
      ],
      "metadata": {
        "id": "I_bbTNl-TAI7"
      }
    },
    {
      "cell_type": "code",
      "source": [
        "data = np.arange(6)\n",
        "data"
      ],
      "metadata": {
        "colab": {
          "base_uri": "https://localhost:8080/"
        },
        "id": "cVHEo4XHSajl",
        "outputId": "6abdfefd-4544-4b18-95ef-9631e84ba29e"
      },
      "execution_count": 9,
      "outputs": [
        {
          "output_type": "execute_result",
          "data": {
            "text/plain": [
              "array([0, 1, 2, 3, 4, 5])"
            ]
          },
          "metadata": {},
          "execution_count": 9
        }
      ]
    },
    {
      "cell_type": "code",
      "source": [
        "np.mean(data)"
      ],
      "metadata": {
        "colab": {
          "base_uri": "https://localhost:8080/"
        },
        "id": "G7CcS26pS1Jp",
        "outputId": "209f2bb1-258f-4a90-eee1-e5859ccdd777"
      },
      "execution_count": 11,
      "outputs": [
        {
          "output_type": "execute_result",
          "data": {
            "text/plain": [
              "2.5"
            ]
          },
          "metadata": {},
          "execution_count": 11
        }
      ]
    },
    {
      "cell_type": "code",
      "source": [
        "print(arr)"
      ],
      "metadata": {
        "colab": {
          "base_uri": "https://localhost:8080/"
        },
        "id": "TMLUE3xXTnzZ",
        "outputId": "23c28a77-9c58-4376-da08-f2280cf14613"
      },
      "execution_count": 12,
      "outputs": [
        {
          "output_type": "stream",
          "name": "stdout",
          "text": [
            "[[-1.2430834  -1.10720972  1.16306916  0.58655841]\n",
            " [-0.4523355  -0.31403163  0.06432558  2.3432724 ]\n",
            " [-1.12960293 -0.53013626 -0.31442037 -0.20360127]\n",
            " [ 0.13339751 -0.2692021  -1.82335645 -0.14036558]\n",
            " [ 0.68891469 -0.1733988  -0.29239759  0.31029217]]\n"
          ]
        }
      ]
    },
    {
      "cell_type": "code",
      "source": [
        "np.mean(arr) # arr barcha elementni yegindisini ortacha qiymati"
      ],
      "metadata": {
        "colab": {
          "base_uri": "https://localhost:8080/"
        },
        "id": "EFpV1fSfT1dd",
        "outputId": "b6ebaf93-945e-45c5-97e5-e8ac42b93cd6"
      },
      "execution_count": 13,
      "outputs": [
        {
          "output_type": "execute_result",
          "data": {
            "text/plain": [
              "-0.1351655852505655"
            ]
          },
          "metadata": {},
          "execution_count": 13
        }
      ]
    },
    {
      "cell_type": "code",
      "source": [
        "np.mean(arr, axis=1) # bu qator bo'yicha o'rtacha qiymatni qaytaradi"
      ],
      "metadata": {
        "colab": {
          "base_uri": "https://localhost:8080/"
        },
        "id": "mCKtvaSlT-fO",
        "outputId": "c0295d1f-6d6c-4e7c-e671-401040febf48"
      },
      "execution_count": 14,
      "outputs": [
        {
          "output_type": "execute_result",
          "data": {
            "text/plain": [
              "array([-0.15016639,  0.41030771, -0.54444021, -0.52488166,  0.13335262])"
            ]
          },
          "metadata": {},
          "execution_count": 14
        }
      ]
    },
    {
      "cell_type": "code",
      "source": [
        "np.mean(arr, axis=0) # bu ustun bo'yicha "
      ],
      "metadata": {
        "colab": {
          "base_uri": "https://localhost:8080/"
        },
        "id": "5MjL7eBqUQuu",
        "outputId": "7f5f7571-bbe2-4a33-da8a-3e7c37ca1e0d"
      },
      "execution_count": 15,
      "outputs": [
        {
          "output_type": "execute_result",
          "data": {
            "text/plain": [
              "array([-0.40054193, -0.4787957 , -0.24055593,  0.57923122])"
            ]
          },
          "metadata": {},
          "execution_count": 15
        }
      ]
    },
    {
      "cell_type": "markdown",
      "source": [
        "### `cumsum` metodi"
      ],
      "metadata": {
        "id": "jdiG2ODmUynV"
      }
    },
    {
      "cell_type": "code",
      "source": [
        "data"
      ],
      "metadata": {
        "colab": {
          "base_uri": "https://localhost:8080/"
        },
        "id": "6h3J9ypxUXk5",
        "outputId": "e81de942-dfce-44ff-bb42-261578f57b43"
      },
      "execution_count": 16,
      "outputs": [
        {
          "output_type": "execute_result",
          "data": {
            "text/plain": [
              "array([0, 1, 2, 3, 4, 5])"
            ]
          },
          "metadata": {},
          "execution_count": 16
        }
      ]
    },
    {
      "cell_type": "code",
      "source": [
        "np.cumsum(data) #o'zigacha bo'lganiga qo'shib boradi"
      ],
      "metadata": {
        "colab": {
          "base_uri": "https://localhost:8080/"
        },
        "id": "9gh_1Qo1U0-O",
        "outputId": "b2a07cbe-be52-4e4b-9d61-df6e579a39c7"
      },
      "execution_count": 18,
      "outputs": [
        {
          "output_type": "execute_result",
          "data": {
            "text/plain": [
              "array([ 0,  1,  3,  6, 10, 15])"
            ]
          },
          "metadata": {},
          "execution_count": 18
        }
      ]
    },
    {
      "cell_type": "code",
      "source": [],
      "metadata": {
        "id": "PLvwGWf-U5Jn"
      },
      "execution_count": null,
      "outputs": []
    }
  ]
}