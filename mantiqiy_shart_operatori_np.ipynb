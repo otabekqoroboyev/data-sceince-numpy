{
  "nbformat": 4,
  "nbformat_minor": 0,
  "metadata": {
    "colab": {
      "provenance": [],
      "authorship_tag": "ABX9TyOi3/gp+QnQMaKYY5Nn4gMp",
      "include_colab_link": true
    },
    "kernelspec": {
      "name": "python3",
      "display_name": "Python 3"
    },
    "language_info": {
      "name": "python"
    }
  },
  "cells": [
    {
      "cell_type": "markdown",
      "metadata": {
        "id": "view-in-github",
        "colab_type": "text"
      },
      "source": [
        "<a href=\"https://colab.research.google.com/github/otabekqoroboyev/data-science/blob/main/mantiqiy_shart_operatori_np.ipynb\" target=\"_parent\"><img src=\"https://colab.research.google.com/assets/colab-badge.svg\" alt=\"Open In Colab\"/></a>"
      ]
    },
    {
      "cell_type": "code",
      "execution_count": 1,
      "metadata": {
        "id": "Miz3HQf9GFo-"
      },
      "outputs": [],
      "source": [
        "import numpy as np"
      ]
    },
    {
      "cell_type": "code",
      "source": [
        "xarr =([1.1, 1.2, 1.3, 1.4, 1.5 ])\n",
        "yarr =([2.1, 2.2, 2.3, 2.4, 2.5])"
      ],
      "metadata": {
        "id": "Ab878RtyGhlp"
      },
      "execution_count": 5,
      "outputs": []
    },
    {
      "cell_type": "code",
      "source": [
        "cond = [True, False, True, True, False]"
      ],
      "metadata": {
        "id": "p6jCqH0OJSLa"
      },
      "execution_count": 6,
      "outputs": []
    },
    {
      "cell_type": "code",
      "source": [
        "result =np.where(cond,xarr,yarr) #Cond == True: bo'sa xarr chiqaradi False bo'lsa yarr chiqaradi\n",
        "result"
      ],
      "metadata": {
        "colab": {
          "base_uri": "https://localhost:8080/"
        },
        "id": "6WnsTorSJ8M2",
        "outputId": "55989460-328b-4fba-aa97-ff53de142e10"
      },
      "execution_count": 9,
      "outputs": [
        {
          "output_type": "execute_result",
          "data": {
            "text/plain": [
              "array([1.1, 2.2, 1.3, 1.4, 2.5])"
            ]
          },
          "metadata": {},
          "execution_count": 9
        }
      ]
    },
    {
      "cell_type": "markdown",
      "source": [
        "### Shart operatori sifatida `where` dan foydalanish\n"
      ],
      "metadata": {
        "id": "TizACZhZLKxH"
      }
    },
    {
      "cell_type": "code",
      "source": [
        "arr =np.random.randn(4,4)\n",
        "arr"
      ],
      "metadata": {
        "colab": {
          "base_uri": "https://localhost:8080/"
        },
        "id": "FLFXoq1sKFUQ",
        "outputId": "dd796a4e-c906-44cd-c002-5fe9ee234a27"
      },
      "execution_count": 11,
      "outputs": [
        {
          "output_type": "execute_result",
          "data": {
            "text/plain": [
              "array([[ 0.20592183,  1.18685694, -1.15151994,  1.04316942],\n",
              "       [ 0.26244345,  0.03599592, -0.56057514, -0.08312646],\n",
              "       [-1.080834  , -0.33156211, -0.61490635,  0.43906454],\n",
              "       [-0.49183074, -0.40624026,  0.16236234, -0.06616962]])"
            ]
          },
          "metadata": {},
          "execution_count": 11
        }
      ]
    },
    {
      "cell_type": "code",
      "source": [
        "results = np.where(arr<0, -2, 2) # agar arr masivmiz 0dan kichik bo'lsa -2 chiqaradi aksincha bo'lsa 2 ni chiqaradi\n",
        "results"
      ],
      "metadata": {
        "colab": {
          "base_uri": "https://localhost:8080/"
        },
        "id": "z03nk7deKiJT",
        "outputId": "a9f72384-2dd1-4dc2-9845-e372fc063f50"
      },
      "execution_count": 15,
      "outputs": [
        {
          "output_type": "execute_result",
          "data": {
            "text/plain": [
              "array([[ 2,  2, -2,  2],\n",
              "       [ 2,  2, -2, -2],\n",
              "       [-2, -2, -2,  2],\n",
              "       [-2, -2,  2, -2]])"
            ]
          },
          "metadata": {},
          "execution_count": 15
        }
      ]
    },
    {
      "cell_type": "code",
      "source": [],
      "metadata": {
        "id": "ncDzZ3iaKs7H"
      },
      "execution_count": null,
      "outputs": []
    }
  ]
}